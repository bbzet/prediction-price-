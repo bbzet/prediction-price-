{
 "cells": [
  {
   "cell_type": "markdown",
   "source": [
    "\n",
    "# Загружаем данные"
   ],
   "metadata": {
    "collapsed": false
   },
   "id": "5cdec48080d10602"
  },
  {
   "cell_type": "code",
   "outputs": [],
   "source": [
    "import pandas as pd  \n",
    "import numpy as np\n",
    "import matplotlib.pyplot as plt\n",
    "import seaborn as sns"
   ],
   "metadata": {
    "collapsed": false,
    "ExecuteTime": {
     "end_time": "2024-11-29T07:52:36.666960400Z",
     "start_time": "2024-11-29T07:52:36.659422200Z"
    }
   },
   "id": "771acd1c6dd5c26f",
   "execution_count": 1
  },
  {
   "cell_type": "code",
   "outputs": [
    {
     "name": "stdout",
     "output_type": "stream",
     "text": [
      "(1460, 81) (1459, 80)\n"
     ]
    }
   ],
   "source": [
    "train_df = pd.read_csv('train.csv')\n",
    "test_df = pd.read_csv('test.csv')\n",
    "\n",
    "print(train_df.shape, test_df.shape)"
   ],
   "metadata": {
    "collapsed": false,
    "ExecuteTime": {
     "end_time": "2024-11-29T07:52:37.571064800Z",
     "start_time": "2024-11-29T07:52:37.426323500Z"
    }
   },
   "id": "e7d445d6e5283896",
   "execution_count": 2
  },
  {
   "cell_type": "code",
   "outputs": [],
   "source": [
    "id_test = test_df.Id\n",
    "\n",
    "train_df.sample(5)"
   ],
   "metadata": {
    "collapsed": false
   },
   "id": "f788c8bc0cc7000",
   "execution_count": null
  },
  {
   "cell_type": "markdown",
   "source": [
    "# Exploratory data analysis, (EDA) "
   ],
   "metadata": {
    "collapsed": false
   },
   "id": "b5ba7dfaae2a6585"
  },
  {
   "cell_type": "code",
   "outputs": [],
   "source": [
    "A1 = set(train_df.Id.values)\n",
    "A2 = set(test_df.Id.values)\n",
    "print(len(A1 - A2), len(A1 & A2), len(A2 - A1))"
   ],
   "metadata": {
    "collapsed": false
   },
   "id": "f4027b52a3af3d16",
   "execution_count": null
  },
  {
   "cell_type": "markdown",
   "source": [
    "показывается что нету одинаковых обьектов в данных. Нету пересечений"
   ],
   "metadata": {
    "collapsed": false
   },
   "id": "22353184e6641e8f"
  },
  {
   "cell_type": "code",
   "outputs": [],
   "source": [
    "train_df.describe()"
   ],
   "metadata": {
    "collapsed": false
   },
   "id": "5c9e28d6098b1fbf",
   "execution_count": null
  },
  {
   "cell_type": "code",
   "outputs": [],
   "source": [
    "numeric_data = train_df.select_dtypes([np.number])\n",
    "numeric_data_mean = numeric_data.mean()\n",
    "y = train_df['SalePrice']\n",
    "train_df.fillna(numeric_data_mean, inplace=True)\n",
    "correlations = train_df[numeric_data.columns].corrwith(y).sort_values(ascending=False)\n",
    "print('Корреляция числовых данных по отношению к y(SalePrice)')\n",
    "correlations"
   ],
   "metadata": {
    "collapsed": false
   },
   "id": "95c61b596595faa0",
   "execution_count": null
  },
  {
   "cell_type": "markdown",
   "source": [
    "**Визуализация на линейную зависимость числовых данных по отношению к y.**"
   ],
   "metadata": {
    "collapsed": false
   },
   "id": "ebf8372bef03cc4f"
  },
  {
   "cell_type": "code",
   "outputs": [],
   "source": [
    "plot = sns.barplot(y=correlations.index, x=correlations, color='black')\n",
    "plot.figure.set_size_inches(15, 10)\n",
    "plt.xlabel('CORR COEF')\n",
    "plt.ylabel('FEATURES')"
   ],
   "metadata": {
    "collapsed": false
   },
   "id": "65d2326d83524032",
   "execution_count": null
  },
  {
   "cell_type": "code",
   "outputs": [],
   "source": [
    "index_to_drop = correlations.loc[correlations.abs() < 0.2]\n",
    "index_to_drop.drop([\"PoolArea\", 'BsmtHalfBath', 'YrSold', 'BedroomAbvGr'], inplace=True)\n",
    "print(\"Колонны у которых малая корреляция.\")\n",
    "index_to_drop"
   ],
   "metadata": {
    "collapsed": false
   },
   "id": "da07e80ca0781c80",
   "execution_count": null
  },
  {
   "cell_type": "code",
   "outputs": [],
   "source": [
    "train_df.drop(columns=index_to_drop.index, inplace=True)\n",
    "test_df.drop(columns=index_to_drop.index, inplace=True)\n",
    "display(train_df.shape, test_df.shape)"
   ],
   "metadata": {
    "collapsed": false
   },
   "id": "24d494bd43d96331",
   "execution_count": null
  },
  {
   "cell_type": "markdown",
   "source": [
    "Удаляю столбов которые имеют очень малую кореляцию (0.2) и также которые не нужны. "
   ],
   "metadata": {
    "collapsed": false
   },
   "id": "e095a8b4fc6dfbc6"
  },
  {
   "cell_type": "markdown",
   "source": [
    "**Начинаю находить outliers и удалять их**"
   ],
   "metadata": {
    "collapsed": false
   },
   "id": "644188a4d333dcc2"
  },
  {
   "cell_type": "code",
   "outputs": [],
   "source": [
    "train_df.select_dtypes([np.number]).shape"
   ],
   "metadata": {
    "collapsed": false
   },
   "id": "31acd6586c9a430e",
   "execution_count": null
  },
  {
   "cell_type": "code",
   "outputs": [],
   "source": [
    "train_df.select_dtypes([np.number])"
   ],
   "metadata": {
    "collapsed": false
   },
   "id": "9612d8561727008",
   "execution_count": null
  },
  {
   "cell_type": "code",
   "outputs": [],
   "source": [
    "train_df.dtypes[train_df.dtypes != 'object']"
   ],
   "metadata": {
    "collapsed": false
   },
   "id": "4919d180af6e72c8",
   "execution_count": null
  },
  {
   "cell_type": "code",
   "outputs": [],
   "source": [
    "plt.scatter(x='LotFrontage', y='SalePrice', data=train_df)"
   ],
   "metadata": {
    "collapsed": false
   },
   "id": "744ed73a99113c65",
   "execution_count": null
  },
  {
   "cell_type": "code",
   "outputs": [],
   "source": [
    "Q1 = train_df['LotFrontage'].quantile(0.25)\n",
    "Q3 = train_df['LotFrontage'].quantile(0.75)\n",
    "IQR = Q3 - Q1\n",
    "lower_ = Q1 - 1.5 * IQR\n",
    "upper_ = Q3 + 1.5 * IQR\n",
    "print(lower_, upper_)\n",
    "train_df['LotFrontage'].plot(kind='box')\n",
    "plt.show()"
   ],
   "metadata": {
    "collapsed": false
   },
   "id": "8efe8b38b437103",
   "execution_count": null
  },
  {
   "cell_type": "code",
   "outputs": [],
   "source": [
    "outliers = train_df[(train_df['LotFrontage'] < lower_) | (train_df['LotFrontage'] > upper_)]\n",
    "train_df.drop(outliers.index, inplace=True)\n",
    "train_df[train_df['LotFrontage'] < lower_]"
   ],
   "metadata": {
    "collapsed": false
   },
   "id": "a5ef029a9b21a603",
   "execution_count": null
  },
  {
   "cell_type": "code",
   "outputs": [],
   "source": [
    "plt.scatter(x='LotArea', y=\"SalePrice\", data=train_df)\n"
   ],
   "metadata": {
    "collapsed": false
   },
   "id": "9999072c44afce0f",
   "execution_count": null
  },
  {
   "cell_type": "code",
   "outputs": [],
   "source": [
    "Q1 = train_df['LotArea'].quantile(0.25)\n",
    "Q3 = train_df['LotArea'].quantile(0.75)\n",
    "IQR = Q3 - Q1\n",
    "lower_ = Q1 - 1.5 * IQR\n",
    "upper_ = Q3 + 1.5 * IQR\n",
    "print(lower_, upper_)\n",
    "train_df['LotArea'].plot(kind='box')\n",
    "plt.show()"
   ],
   "metadata": {
    "collapsed": false
   },
   "id": "7b351490585bb8c",
   "execution_count": null
  },
  {
   "cell_type": "code",
   "outputs": [],
   "source": [
    "outliers = train_df[(train_df['LotArea'] <= lower_) | (train_df['LotArea'] >= upper_)]\n",
    "train_df.drop(outliers.index, inplace=True)\n",
    "train_df['LotArea'].plot(kind='box')\n",
    "plt.show()"
   ],
   "metadata": {
    "collapsed": false
   },
   "id": "67c2d291ffdfdb9c",
   "execution_count": null
  },
  {
   "cell_type": "code",
   "outputs": [],
   "source": [
    "plt.scatter(x='YearBuilt', y='SalePrice', data=train_df)\n"
   ],
   "metadata": {
    "collapsed": false
   },
   "id": "31f982b8001ff6c2",
   "execution_count": null
  },
  {
   "cell_type": "code",
   "outputs": [],
   "source": [
    "Q1 = train_df['YearBuilt'].quantile(0.25)\n",
    "Q3 = train_df['YearBuilt'].quantile(0.75)\n",
    "IQR = Q3 - Q1\n",
    "lower_ = Q1 - 1.5 * IQR\n",
    "train_df['YearBuilt'].plot(kind='box')\n",
    "plt.show()\n",
    "print(lower_)"
   ],
   "metadata": {
    "collapsed": false
   },
   "id": "9e3034c53c7ad27e",
   "execution_count": null
  },
  {
   "cell_type": "code",
   "outputs": [],
   "source": [
    "plt.scatter(x='YearRemodAdd', y='SalePrice', data=train_df)\n",
    "plt.show()"
   ],
   "metadata": {
    "collapsed": false
   },
   "id": "2fa1b929a833c352",
   "execution_count": null
  },
  {
   "cell_type": "code",
   "outputs": [],
   "source": [
    "Q1 = train_df['YearRemodAdd'].quantile(0.25)\n",
    "Q3 = train_df['YearRemodAdd'].quantile(0.75)\n",
    "IQR = Q3 - Q1\n",
    "lower_ = Q1 - 1.5 * IQR\n",
    "train_df['YearRemodAdd'].plot(kind='box')\n",
    "plt.show()\n",
    "print(lower_)"
   ],
   "metadata": {
    "collapsed": false
   },
   "id": "76f2378e175e3ec1",
   "execution_count": null
  },
  {
   "cell_type": "code",
   "outputs": [],
   "source": [
    "plt.scatter(x='MasVnrArea', y='SalePrice', data=train_df)\n",
    "plt.show()"
   ],
   "metadata": {
    "collapsed": false
   },
   "id": "aa7428ab24c115c0",
   "execution_count": null
  },
  {
   "cell_type": "code",
   "outputs": [],
   "source": [
    "Q1 = train_df['MasVnrArea'].quantile(0.25)\n",
    "Q3 = train_df['MasVnrArea'].quantile(0.75)\n",
    "IQR = Q3 - Q1\n",
    "lower_ = Q1 - 1.5 * IQR\n",
    "upper_ = Q3 + 3.5 * IQR\n",
    "print(lower_, upper_)\n",
    "train_df['MasVnrArea'].plot(kind='box')\n",
    "plt.show()"
   ],
   "metadata": {
    "collapsed": false
   },
   "id": "5e8ce860e78d00c6",
   "execution_count": null
  },
  {
   "cell_type": "code",
   "outputs": [],
   "source": [
    "outliers = train_df[(train_df['MasVnrArea'] <= lower_) | (train_df['MasVnrArea'] >= upper_)]\n",
    "train_df.drop(outliers.index, inplace=True)\n",
    "train_df['MasVnrArea'].plot(kind='box')\n",
    "plt.show()"
   ],
   "metadata": {
    "collapsed": false
   },
   "id": "7b2d1e87f68eedb9",
   "execution_count": null
  },
  {
   "cell_type": "code",
   "outputs": [],
   "source": [
    "plt.scatter(x='BsmtFinSF1', y='SalePrice', data=train_df)\n"
   ],
   "metadata": {
    "collapsed": false
   },
   "id": "ffd5561a55adce68",
   "execution_count": null
  },
  {
   "cell_type": "code",
   "outputs": [],
   "source": [
    "Q1 = train_df['BsmtFinSF1'].quantile(0.25)\n",
    "Q3 = train_df['BsmtFinSF1'].quantile(0.75)\n",
    "IQR = Q3 - Q1 \n",
    "lower_ = Q1 - 1.5 * IQR\n",
    "upper_ = Q3 + 1.5 * IQR\n",
    "print(lower_, upper_)\n",
    "train_df['BsmtFinSF1'].plot(kind='box')"
   ],
   "metadata": {
    "collapsed": false
   },
   "id": "eae4dc3c9af4eba6",
   "execution_count": null
  },
  {
   "cell_type": "code",
   "outputs": [],
   "source": [
    "outliers = train_df[(train_df['BsmtFinSF1'] <= lower_) | (train_df['BsmtFinSF1'] >= upper_)]\n",
    "train_df.drop(outliers.index, inplace=True)\n",
    "train_df['BsmtFinSF1'].plot(kind='box')\n",
    "plt.show()"
   ],
   "metadata": {
    "collapsed": false
   },
   "id": "f2ead56a01919244",
   "execution_count": null
  },
  {
   "cell_type": "code",
   "outputs": [],
   "source": [
    "plt.scatter(x='TotalBsmtSF', y='SalePrice', data=train_df)\n"
   ],
   "metadata": {
    "collapsed": false
   },
   "id": "de71ba7a248a8ec3",
   "execution_count": null
  },
  {
   "cell_type": "code",
   "outputs": [],
   "source": [
    "train_df.drop(train_df.query('TotalBsmtSF > 2000').index, inplace=True)\n",
    "train_df.query('TotalBsmtSF > 2000')"
   ],
   "metadata": {
    "collapsed": false
   },
   "id": "af0835ed1f0c3174",
   "execution_count": null
  },
  {
   "cell_type": "code",
   "outputs": [],
   "source": [
    "plt.scatter(x='1stFlrSF', y=\"SalePrice\", data=train_df)"
   ],
   "metadata": {
    "collapsed": false
   },
   "id": "ab578ef0036ab99d",
   "execution_count": null
  },
  {
   "cell_type": "code",
   "outputs": [],
   "source": [
    "Q1 = train_df['1stFlrSF'].quantile(0.25)\n",
    "Q3 = train_df['1stFlrSF'].quantile(0.75)\n",
    "IQR = Q3 - Q1 \n",
    "lower_ = Q1 - 1.5 * IQR\n",
    "upper_ = Q3 + 1.5 * IQR\n",
    "print(lower_, upper_)\n",
    "train_df['1stFlrSF'].plot(kind='box')"
   ],
   "metadata": {
    "collapsed": false
   },
   "id": "8fa021b725e4bf55",
   "execution_count": null
  },
  {
   "cell_type": "code",
   "outputs": [],
   "source": [
    "outliers = train_df[(train_df['1stFlrSF'] <= lower_) | (train_df['1stFlrSF'] >= upper_)]\n",
    "train_df.drop(outliers.index, inplace=True)\n",
    "train_df['1stFlrSF'].plot(kind='box')\n",
    "plt.show()"
   ],
   "metadata": {
    "collapsed": false
   },
   "id": "c845ce4687db0a0e",
   "execution_count": null
  },
  {
   "cell_type": "code",
   "outputs": [],
   "source": [
    "plt.scatter(x='2ndFlrSF', y='SalePrice', data=train_df)"
   ],
   "metadata": {
    "collapsed": false
   },
   "id": "138bd97da1a84194",
   "execution_count": null
  },
  {
   "cell_type": "code",
   "outputs": [],
   "source": [
    "Q1 = train_df['2ndFlrSF'].quantile(0.25)\n",
    "Q3 = train_df['2ndFlrSF'].quantile(0.75)\n",
    "IQR = Q3 - Q1 \n",
    "lower_ = Q1 - 1.5 * IQR\n",
    "upper_ = Q3 + 1.5 * IQR\n",
    "print(lower_, upper_)\n",
    "train_df['2ndFlrSF'].plot(kind='box')"
   ],
   "metadata": {
    "collapsed": false
   },
   "id": "5af283cd63c422ab",
   "execution_count": null
  },
  {
   "cell_type": "code",
   "outputs": [],
   "source": [
    "outliers = train_df[(train_df['2ndFlrSF'] <= lower_) | (train_df['2ndFlrSF'] >= upper_)]\n",
    "train_df.drop(outliers.index, inplace=True)\n",
    "train_df['2ndFlrSF'].plot(kind='box')\n",
    "plt.show()"
   ],
   "metadata": {
    "collapsed": false
   },
   "id": "835799d303ec87e7",
   "execution_count": null
  },
  {
   "cell_type": "code",
   "outputs": [],
   "source": [
    "plt.scatter(x='GrLivArea', y='SalePrice', data=train_df)\n"
   ],
   "metadata": {
    "collapsed": false
   },
   "id": "1b735690a81f227",
   "execution_count": null
  },
  {
   "cell_type": "code",
   "outputs": [],
   "source": [
    "Q1 = train_df['GrLivArea'].quantile(0.25)\n",
    "Q3 = train_df['GrLivArea'].quantile(0.75)\n",
    "IQR = Q3 - Q1 \n",
    "lower_ = Q1 - 1.5 * IQR\n",
    "upper_ = Q3 + 1.5 * IQR\n",
    "print(lower_, upper_)\n",
    "train_df['GrLivArea'].plot(kind='box')"
   ],
   "metadata": {
    "collapsed": false
   },
   "id": "5e9c5a554dcf18c4",
   "execution_count": null
  },
  {
   "cell_type": "code",
   "outputs": [],
   "source": [
    "outliers = train_df[(train_df['GrLivArea'] <= lower_) | (train_df['GrLivArea'] >= upper_)]\n",
    "train_df.drop(outliers.index, inplace=True)\n",
    "train_df['GrLivArea'].plot(kind='box')\n",
    "plt.show()"
   ],
   "metadata": {
    "collapsed": false
   },
   "id": "a129c75b0cc233ab",
   "execution_count": null
  },
  {
   "cell_type": "code",
   "outputs": [],
   "source": [
    "plt.scatter(x='BsmtFullBath', y='SalePrice', data=train_df)"
   ],
   "metadata": {
    "collapsed": false
   },
   "id": "e1b8fa97bc04f96",
   "execution_count": null
  },
  {
   "cell_type": "code",
   "outputs": [],
   "source": [
    "plt.scatter(x='BsmtHalfBath', y='SalePrice', data=train_df)\n"
   ],
   "metadata": {
    "collapsed": false
   },
   "id": "17e14cea3e8d7b3",
   "execution_count": null
  },
  {
   "cell_type": "code",
   "outputs": [],
   "source": [
    "plt.scatter(x='FullBath', y='SalePrice', data=train_df)\n"
   ],
   "metadata": {
    "collapsed": false
   },
   "id": "c0f45603c6532b35",
   "execution_count": null
  },
  {
   "cell_type": "code",
   "outputs": [],
   "source": [
    "plt.scatter(x='BedroomAbvGr', y='SalePrice', data=train_df)"
   ],
   "metadata": {
    "collapsed": false
   },
   "id": "3aa8be88c28348e9",
   "execution_count": null
  },
  {
   "cell_type": "code",
   "outputs": [],
   "source": [
    "plt.scatter(x='TotRmsAbvGrd', y='SalePrice', data=train_df)"
   ],
   "metadata": {
    "collapsed": false
   },
   "id": "79fd051aa29198da",
   "execution_count": null
  },
  {
   "cell_type": "code",
   "outputs": [],
   "source": [
    "plt.scatter(x='Fireplaces', y='SalePrice', data=train_df)"
   ],
   "metadata": {
    "collapsed": false
   },
   "id": "7fe4504d21e91d0f",
   "execution_count": null
  },
  {
   "cell_type": "code",
   "outputs": [],
   "source": [
    "plt.scatter(x='GarageYrBlt', y='SalePrice', data =train_df)"
   ],
   "metadata": {
    "collapsed": false
   },
   "id": "d5c2a543d8c06ccb",
   "execution_count": null
  },
  {
   "cell_type": "code",
   "outputs": [],
   "source": [
    "Q1 = train_df['GarageYrBlt'].quantile(0.25)\n",
    "Q3 = train_df['GarageYrBlt'].quantile(0.75)\n",
    "IQR = Q3 - Q1 \n",
    "lower_ = Q1 - 1.5 * IQR\n",
    "upper_ = Q3 + 1.5 * IQR\n",
    "print(lower_, upper_)\n",
    "train_df['GarageYrBlt'].plot(kind='box')"
   ],
   "metadata": {
    "collapsed": false
   },
   "id": "2e207584f924f96a",
   "execution_count": null
  },
  {
   "cell_type": "code",
   "outputs": [],
   "source": [
    "outliers = train_df[(train_df['GarageYrBlt'] <= lower_) | (train_df['GarageYrBlt'] >= upper_)]\n",
    "train_df.drop(outliers.index, inplace=True)\n",
    "train_df['GarageYrBlt'].plot(kind='box')\n",
    "plt.show()"
   ],
   "metadata": {
    "collapsed": false
   },
   "id": "10ab3bacc2977cb0",
   "execution_count": null
  },
  {
   "cell_type": "code",
   "outputs": [],
   "source": [
    "plt.scatter(x='GarageCars', y='SalePrice', data =train_df)"
   ],
   "metadata": {
    "collapsed": false
   },
   "id": "3e1ea22f8a8e930",
   "execution_count": null
  },
  {
   "cell_type": "code",
   "outputs": [],
   "source": [
    "Q1 = train_df['GarageCars'].quantile(0.25)\n",
    "Q3 = train_df['GarageCars'].quantile(0.75)\n",
    "IQR = Q3 - Q1 \n",
    "lower_ = Q1 - 1.5 * IQR\n",
    "upper_ = Q3 + 1.5 * IQR\n",
    "print(lower_, upper_)\n",
    "train_df['GarageCars'].plot(kind='box')"
   ],
   "metadata": {
    "collapsed": false
   },
   "id": "c4a0e018f34c759",
   "execution_count": null
  },
  {
   "cell_type": "code",
   "outputs": [],
   "source": [
    "outliers = train_df[(train_df['GarageCars'] <= lower_) | (train_df['GarageCars'] >= upper_)]\n",
    "train_df.drop(outliers.index, inplace=True)\n",
    "train_df['GarageCars'].plot(kind='box')\n",
    "plt.show()"
   ],
   "metadata": {
    "collapsed": false
   },
   "id": "474b3934ca9982a6",
   "execution_count": null
  },
  {
   "cell_type": "code",
   "outputs": [],
   "source": [
    "plt.scatter(x='GarageArea', y='SalePrice', data =train_df)"
   ],
   "metadata": {
    "collapsed": false
   },
   "id": "c4983c43d00f87e4",
   "execution_count": null
  },
  {
   "cell_type": "code",
   "outputs": [],
   "source": [
    "Q1 = train_df['GarageArea'].quantile(0.25)\n",
    "Q3 = train_df['GarageArea'].quantile(0.75)\n",
    "IQR = Q3 - Q1 \n",
    "lower_ = Q1 - 1.5 * IQR\n",
    "upper_ = Q3 + 1.5 * IQR\n",
    "print(lower_, upper_)\n",
    "train_df['GarageArea'].plot(kind='box')"
   ],
   "metadata": {
    "collapsed": false
   },
   "id": "ee0ec47f49596603",
   "execution_count": null
  },
  {
   "cell_type": "code",
   "outputs": [],
   "source": [
    "outliers = train_df[(train_df['GarageArea'] <= lower_) | (train_df['GarageArea'] >= upper_)]\n",
    "train_df.drop(outliers.index, inplace=True)\n",
    "train_df['GarageArea'].plot(kind='box')\n",
    "plt.show()"
   ],
   "metadata": {
    "collapsed": false
   },
   "id": "8040ee57363d147d",
   "execution_count": null
  },
  {
   "cell_type": "code",
   "outputs": [],
   "source": [
    "plt.scatter(x='WoodDeckSF', y='SalePrice', data =train_df)"
   ],
   "metadata": {
    "collapsed": false
   },
   "id": "3432d05bad6314df",
   "execution_count": null
  },
  {
   "cell_type": "code",
   "outputs": [],
   "source": [
    "Q1 = train_df['WoodDeckSF'].quantile(0.25)\n",
    "Q3 = train_df['WoodDeckSF'].quantile(0.75)\n",
    "IQR = Q3 - Q1 \n",
    "lower_ = Q1 - 1.5 * IQR\n",
    "upper_ = Q3 + 1.5 * IQR\n",
    "print(lower_, upper_)\n",
    "train_df['WoodDeckSF'].plot(kind='box')"
   ],
   "metadata": {
    "collapsed": false
   },
   "id": "c6126ff1d1cfdac5",
   "execution_count": null
  },
  {
   "cell_type": "code",
   "outputs": [],
   "source": [
    "outliers = train_df[(train_df['WoodDeckSF'] <= lower_) | (train_df['WoodDeckSF'] >= upper_)]\n",
    "train_df.drop(outliers.index, inplace=True)\n",
    "train_df['WoodDeckSF'].plot(kind='box')\n",
    "plt.show()"
   ],
   "metadata": {
    "collapsed": false
   },
   "id": "7fc5f88fba07e5ba",
   "execution_count": null
  },
  {
   "cell_type": "code",
   "outputs": [],
   "source": [
    "plt.scatter(x='OpenPorchSF', y='SalePrice', data =train_df)\n"
   ],
   "metadata": {
    "collapsed": false
   },
   "id": "e041cf012b8cfaf4",
   "execution_count": null
  },
  {
   "cell_type": "code",
   "outputs": [],
   "source": [
    "Q1 = train_df['OpenPorchSF'].quantile(0.25)\n",
    "Q3 = train_df['OpenPorchSF'].quantile(0.75)\n",
    "IQR = Q3 - Q1 \n",
    "lower_ = Q1 - 1.5 * IQR\n",
    "upper_ = Q3 + 1.5 * IQR\n",
    "print(lower_, upper_)\n",
    "train_df['OpenPorchSF'].plot(kind='box')"
   ],
   "metadata": {
    "collapsed": false
   },
   "id": "25f31d8520d96397",
   "execution_count": null
  },
  {
   "cell_type": "code",
   "outputs": [],
   "source": [
    "outliers = train_df[(train_df['OpenPorchSF'] <= lower_) | (train_df['OpenPorchSF'] >= upper_)]\n",
    "train_df.drop(outliers.index, inplace=True)\n",
    "train_df['OpenPorchSF'].plot(kind='box')\n",
    "plt.show()"
   ],
   "metadata": {
    "collapsed": false
   },
   "id": "59914e1e460d2e8a",
   "execution_count": null
  },
  {
   "cell_type": "code",
   "outputs": [],
   "source": [
    "plt.scatter(x='PoolArea', y='SalePrice', data =train_df)\n"
   ],
   "metadata": {
    "collapsed": false
   },
   "id": "70936b2c05bdb168",
   "execution_count": null
  },
  {
   "cell_type": "code",
   "outputs": [],
   "source": [
    "plt.scatter(x='YrSold', y='SalePrice', data =train_df)"
   ],
   "metadata": {
    "collapsed": false
   },
   "id": "d6dec0d108638b9f",
   "execution_count": null
  },
  {
   "cell_type": "markdown",
   "source": [
    "**Еще раз чекаю корелляцию данных, после удаления выбросов**"
   ],
   "metadata": {
    "collapsed": false
   },
   "id": "dc861820d482838"
  },
  {
   "cell_type": "code",
   "outputs": [],
   "source": [
    "numeric_data = train_df.select_dtypes([np.number])\n",
    "numeric_data_mean = numeric_data.mean()\n",
    "y = train_df['SalePrice']\n",
    "train_df.fillna(numeric_data_mean, inplace=True)\n",
    "correlations = train_df[numeric_data.columns].corrwith(y).sort_values(ascending=False)\n",
    "correlations"
   ],
   "metadata": {
    "collapsed": false
   },
   "id": "271bef38b0dc7f26",
   "execution_count": null
  },
  {
   "cell_type": "code",
   "outputs": [],
   "source": [
    "plot = sns.barplot(y=correlations.index, x=correlations, color='black')\n",
    "plot.figure.set_size_inches(15, 10)\n",
    "plt.xlabel('CORR COEF')\n",
    "plt.ylabel('FEATURES')\n",
    "index_to_drop = correlations.loc[correlations.abs() < 0.2]\n",
    "print('Колонны у которых корелляция меньше чем 0.2')\n",
    "index_to_drop"
   ],
   "metadata": {
    "collapsed": false
   },
   "id": "70fd15660e081bff",
   "execution_count": null
  },
  {
   "cell_type": "code",
   "outputs": [],
   "source": [
    "train_df.drop(columns=index_to_drop.index, inplace=True)\n",
    "test_df.drop(columns=index_to_drop.index, inplace=True)\n",
    "display(train_df.shape, test_df.shape)"
   ],
   "metadata": {
    "collapsed": false
   },
   "id": "c00a324c9da59c2e",
   "execution_count": null
  },
  {
   "cell_type": "markdown",
   "source": [
    "## Меняю категориальные данные на числовые используя OrdinalEncoder"
   ],
   "metadata": {
    "collapsed": false
   },
   "id": "2fc8e069715c9f7f"
  },
  {
   "cell_type": "code",
   "outputs": [],
   "source": [
    "from sklearn.preprocessing import OrdinalEncoder\n",
    "\n",
    "categorical = train_df.select_dtypes(include=['object'])\n",
    "encoder = OrdinalEncoder()\n",
    "train_df[categorical.columns] = encoder.fit_transform(train_df[categorical.columns])\n",
    "train_df"
   ],
   "metadata": {
    "collapsed": false
   },
   "id": "9e44282fe64d4d0a",
   "execution_count": null
  },
  {
   "cell_type": "code",
   "outputs": [],
   "source": [
    "categorical_t = test_df.select_dtypes(include=['object'])\n",
    "encoder = OrdinalEncoder()\n",
    "test_df[categorical_t.columns] = encoder.fit_transform(test_df[categorical.columns])\n",
    "test_df"
   ],
   "metadata": {
    "collapsed": false
   },
   "id": "17c8ac4abd127f7c",
   "execution_count": null
  },
  {
   "cell_type": "code",
   "outputs": [],
   "source": [
    "train_df.isna().sum()"
   ],
   "metadata": {
    "collapsed": false
   },
   "id": "116bb38f85bb93cb",
   "execution_count": null
  },
  {
   "cell_type": "code",
   "outputs": [],
   "source": [
    "test_df.isna().sum()"
   ],
   "metadata": {
    "collapsed": false
   },
   "id": "7b63902bf5c8ca64",
   "execution_count": null
  },
  {
   "cell_type": "code",
   "outputs": [],
   "source": [
    "percent = 0\n",
    "for i in train_df.columns:\n",
    "    percent = (train_df[i].isna().sum()/train_df[i].shape[0])*100\n",
    "    if percent > 0:\n",
    "        train_df.drop(columns=i, inplace=True)\n",
    "        percent = 30\n",
    "    else:\n",
    "        percent = 0\n",
    "train_df.sample(15)"
   ],
   "metadata": {
    "collapsed": false
   },
   "id": "d2ff72de78d04e3b",
   "execution_count": null
  },
  {
   "cell_type": "code",
   "outputs": [],
   "source": [
    "percent = 0\n",
    "for i in test_df.columns:\n",
    "    percent = (test_df[i].isna().sum()/test_df[i].shape[0])*100\n",
    "    if percent > 0:\n",
    "        test_df.drop(columns=i, inplace=True)\n",
    "        percent = 30\n",
    "    else:\n",
    "        percent = 0\n",
    "test_df.sample(15)"
   ],
   "metadata": {
    "collapsed": false
   },
   "id": "614283b8565f6c42",
   "execution_count": null
  },
  {
   "cell_type": "markdown",
   "source": [
    "Удалил колонны которые имеют больше 30% пустые ячейки "
   ],
   "metadata": {
    "collapsed": false
   },
   "id": "a5f790ebc1e8edce"
  },
  {
   "cell_type": "code",
   "outputs": [],
   "source": [
    "train_df = train_df.apply(lambda x: x.fillna(x.median()), axis=0)\n",
    "train_df.isna().sum()"
   ],
   "metadata": {
    "collapsed": false
   },
   "id": "63829a4e86fa712b",
   "execution_count": null
  },
  {
   "cell_type": "code",
   "outputs": [],
   "source": [
    "test_df = test_df.apply(lambda x: x.fillna(x.median()), axis=0)\n",
    "test_df.isna().sum()"
   ],
   "metadata": {
    "collapsed": false
   },
   "id": "ded69a6131ebdbd7",
   "execution_count": null
  },
  {
   "cell_type": "code",
   "outputs": [],
   "source": [
    "from sklearn.model_selection import train_test_split, GridSearchCV\n",
    "\n",
    "X = train_df.loc[:, train_df.columns!='SalePrice']\n",
    "y = train_df['SalePrice']\n",
    "display(X, y)"
   ],
   "metadata": {
    "collapsed": false
   },
   "id": "5e0581f4bbdfa9a0",
   "execution_count": null
  },
  {
   "cell_type": "code",
   "outputs": [],
   "source": [
    "columns = [i for i in X.columns if i in X.columns and i in test_df.columns]\n",
    "X = train_df[columns]\n",
    "X"
   ],
   "metadata": {
    "collapsed": false
   },
   "id": "235705bd6c61ff06",
   "execution_count": null
  },
  {
   "cell_type": "code",
   "outputs": [],
   "source": [
    "for i in test_df:\n",
    "    if i not in X:\n",
    "        dropped = i\n",
    "test_df.drop(columns=dropped, inplace=True)\n",
    "test_df.shape"
   ],
   "metadata": {
    "collapsed": false
   },
   "id": "dcb4742bc4f2c993",
   "execution_count": null
  },
  {
   "cell_type": "code",
   "outputs": [],
   "source": [
    "if set(X.columns) == set(test_df.columns):\n",
    "    print(True)"
   ],
   "metadata": {
    "collapsed": false
   },
   "id": "e0855367d69336bb",
   "execution_count": null
  },
  {
   "cell_type": "markdown",
   "source": [
    "**Делю данные на обучающую и тестовую.**"
   ],
   "metadata": {
    "collapsed": false
   },
   "id": "6bc26ed2cd4e6d3f"
  },
  {
   "cell_type": "code",
   "outputs": [],
   "source": [
    "X_train, X_test, y_train, y_test = train_test_split(X, y, test_size=0.3, random_state=11)"
   ],
   "metadata": {
    "collapsed": false
   },
   "id": "26c0b9ed6e6a2dd0",
   "execution_count": null
  },
  {
   "cell_type": "markdown",
   "source": [
    "## Первая модель применяю randomforest "
   ],
   "metadata": {
    "collapsed": false
   },
   "id": "ab023de393e8974f"
  },
  {
   "cell_type": "code",
   "outputs": [],
   "source": [
    "from sklearn.ensemble import RandomForestRegressor\n",
    "\n",
    "ranmodel = RandomForestRegressor()\n",
    "ranmodel.fit(X_train, y_train)\n",
    "y_pred = ranmodel.predict(X_test)\n",
    "score_forest = ranmodel.score(X_test, y_test)\n",
    "print(f'Скоринг модели Random Forest: {score_forest:.4f}')"
   ],
   "metadata": {
    "collapsed": false
   },
   "id": "d470bfedb020d9c3",
   "execution_count": null
  },
  {
   "cell_type": "markdown",
   "source": [
    "## Модель по XGBoost"
   ],
   "metadata": {
    "collapsed": false
   },
   "id": "d395f7d150515b46"
  },
  {
   "cell_type": "code",
   "outputs": [],
   "source": [
    "from xgboost import XGBRegressor\n",
    "\n",
    "xgb_model = XGBRegressor()\n",
    "xgb_model.fit(X_train, y_train)\n",
    "y_pred_xgb = xgb_model.predict(X_test)\n",
    "score_xgb = xgb_model.score(X_test, y_test)\n",
    "print(f'Скоринг XGBoost модели: {score_xgb:.4f} ')"
   ],
   "metadata": {
    "collapsed": false
   },
   "id": "8c159ae68d84b10d",
   "execution_count": null
  },
  {
   "cell_type": "markdown",
   "source": [
    "## Перевожу данные в один диапазон и применяю линейную регрессию"
   ],
   "metadata": {
    "collapsed": false
   },
   "id": "3d435009a28aeec8"
  },
  {
   "cell_type": "code",
   "outputs": [],
   "source": [
    "from sklearn.preprocessing import MinMaxScaler\n",
    "\n",
    "scaler = MinMaxScaler()\n",
    "X_train = scaler.fit_transform(X_train)\n",
    "X_test = scaler.transform(X_test)\n",
    "test_df = scaler.transform(test_df)\n",
    "\n",
    "display(X_train, X_test, test_df)"
   ],
   "metadata": {
    "collapsed": false
   },
   "id": "db059efbffd6f0b7",
   "execution_count": null
  },
  {
   "cell_type": "code",
   "outputs": [],
   "source": [
    "from sklearn.linear_model import LinearRegression\n",
    "\n",
    "regressor = LinearRegression()\n",
    "regressor.fit(X_train, y_train)\n",
    "y_predr = regressor.predict(X_test)\n",
    "print(f'Оценка линейной регрессиии: {regressor.score(X_test, y_test)}')"
   ],
   "metadata": {
    "collapsed": false
   },
   "id": "65c3541d5f550ceb",
   "execution_count": null
  },
  {
   "cell_type": "markdown",
   "source": [
    "**Метрики MSE, MAE, RMSE, R2R**"
   ],
   "metadata": {
    "collapsed": false
   },
   "id": "a2d4c31c13cd06a"
  },
  {
   "cell_type": "code",
   "outputs": [],
   "source": [
    "from sklearn.metrics import mean_squared_error, mean_absolute_error, r2_score \n",
    "\n",
    "mse = mean_squared_error(y_test, y_predr)\n",
    "mae = mean_absolute_error(y_test, y_pred)\n",
    "rmse = mean_squared_error(y_test, y_predr, squared=False)\n",
    "r2r = r2_score(y_test, y_predr)\n",
    "print(f' MSE: {mse}\\n MAE: {mae}\\n RMSE: {rmse}\\n R2: {r2r}')"
   ],
   "metadata": {
    "collapsed": false
   },
   "id": "c4392f6973e01d20",
   "execution_count": null
  },
  {
   "cell_type": "markdown",
   "source": [
    "**Кросс валидация по RMSE**"
   ],
   "metadata": {
    "collapsed": false
   },
   "id": "3a7cccf10f2f0acb"
  },
  {
   "cell_type": "code",
   "outputs": [],
   "source": [
    "from sklearn.model_selection import cross_val_score\n",
    "\n",
    "cv_scores = cross_val_score(regressor, X, y, cv=5, scoring='neg_root_mean_squared_error')\n",
    "print(\"Cross validation scores:\\n\\t\", \"\\n\\t\".join(\"%.4f\" % x for x in cv_scores))\n",
    "print(\"Mean CV RMSE = %.4f\" % np.mean(-cv_scores))"
   ],
   "metadata": {
    "collapsed": false
   },
   "id": "146e6ee9f6b28466",
   "execution_count": null
  },
  {
   "cell_type": "markdown",
   "source": [
    "**Кросс валидация по R2**"
   ],
   "metadata": {
    "collapsed": false
   },
   "id": "8d7787e99738467d"
  },
  {
   "cell_type": "code",
   "outputs": [],
   "source": [
    "cv_scoresr2 = cross_val_score(regressor, X, y, cv=5, scoring=\"r2\")\n",
    "print(\"Оценки кросс валидации:\\n\\t\", \"\\n\\t\".join(\"%.4f\" % x for x in cv_scoresr2))\n",
    "print(\"Средняя кросс валидации R2 = %.4f\" % np.mean(cv_scoresr2))"
   ],
   "metadata": {
    "collapsed": false
   },
   "id": "c26aa640d90e4c1b",
   "execution_count": null
  },
  {
   "cell_type": "code",
   "outputs": [],
   "source": [
    "sns.heatmap(X.corr())"
   ],
   "metadata": {
    "collapsed": false
   },
   "id": "43e38ddf859dc0",
   "execution_count": null
  },
  {
   "cell_type": "markdown",
   "source": [
    "Здесь зависимость между фичами сильная (мултикореляционность)\n",
    "Можем применить регуляризацию."
   ],
   "metadata": {
    "collapsed": false
   },
   "id": "a97ec75d57cc8182"
  },
  {
   "cell_type": "markdown",
   "source": [
    "**Регуляризация Ridge**"
   ],
   "metadata": {
    "collapsed": false
   },
   "id": "d209323c02f80509"
  },
  {
   "cell_type": "code",
   "outputs": [],
   "source": [
    "from sklearn.linear_model import Ridge, Lasso\n",
    "from sklearn.model_selection import GridSearchCV\n",
    "alpha = np.logspace(-2, 3, 20)\n",
    "modelR = Ridge()\n",
    "searcher = GridSearchCV(modelR, [{'alpha': alpha}], scoring='neg_root_mean_squared_error', cv=5)\n",
    "searcher.fit(X_train, y_train)\n",
    "\n",
    "print('Лучшие параметры для Ridge: ', searcher.best_params_['alpha'])"
   ],
   "metadata": {
    "collapsed": false
   },
   "id": "3b17b881e7f26c86",
   "execution_count": null
  },
  {
   "cell_type": "code",
   "outputs": [],
   "source": [
    "best_model = Ridge(searcher.best_params_['alpha'])\n",
    "best_model.fit(X_train, y_train)\n",
    "best_y = best_model.predict(X_test)"
   ],
   "metadata": {
    "collapsed": false
   },
   "id": "bc194872d7639735",
   "execution_count": null
  },
  {
   "cell_type": "code",
   "outputs": [],
   "source": [
    "mse = mean_squared_error(y_test, best_y)\n",
    "mae = mean_absolute_error(y_test, best_y)\n",
    "rmse = mean_squared_error(y_test, best_y, squared=False)\n",
    "r2 = r2_score(y_test, best_y)\n",
    "print(f' MSE: {mse}\\n MAE: {mae}\\n RMSE: {rmse}\\n R2: {r2}')"
   ],
   "metadata": {
    "collapsed": false
   },
   "id": "38db4693d40e5e98",
   "execution_count": null
  },
  {
   "cell_type": "code",
   "outputs": [],
   "source": [
    "modelL = Lasso()\n",
    "searcher = GridSearchCV(modelL, [{'alpha': alpha}], cv=5, scoring='neg_root_mean_squared_error')\n",
    "searcher.fit(X_train, y_train)\n",
    "best_alphaL = searcher.best_params_['alpha']\n",
    "print(f'Лучший параметр для Lasso: {best_alphaL}')"
   ],
   "metadata": {
    "collapsed": false
   },
   "id": "e19b35318f71e101",
   "execution_count": null
  },
  {
   "cell_type": "code",
   "outputs": [],
   "source": [
    "print(searcher.best_estimator_)"
   ],
   "metadata": {
    "collapsed": false
   },
   "id": "90db2219813e79a",
   "execution_count": null
  },
  {
   "cell_type": "code",
   "outputs": [],
   "source": [
    "modelL = Lasso(best_alphaL)\n",
    "modelL.fit(X_train, y_train)\n",
    "\n",
    "best_yL = modelL.predict(X_test)"
   ],
   "metadata": {
    "collapsed": false
   },
   "id": "bec35e67c19b59af",
   "execution_count": null
  },
  {
   "cell_type": "code",
   "outputs": [],
   "source": [
    "mse = mean_squared_error(y_test, best_yL)\n",
    "mae = mean_absolute_error(y_test, best_yL)\n",
    "rmse = mean_squared_error(y_test, best_yL, squared=False)\n",
    "r2 = r2_score(y_test, best_yL)\n",
    "print(\"Метрики lasso\")\n",
    "print(f' MSE: {mse}\\n MAE: {mae}\\n RMSE: {rmse}\\n R2: {r2}')"
   ],
   "metadata": {
    "collapsed": false
   },
   "id": "5b8e5f2ed5df66a1",
   "execution_count": null
  },
  {
   "cell_type": "markdown",
   "source": [
    "**Кросс валидация для Ridge**"
   ],
   "metadata": {
    "collapsed": false
   },
   "id": "be2d86ff6c34e3f8"
  },
  {
   "cell_type": "code",
   "outputs": [],
   "source": [
    "cv_scoresR = cross_val_score(best_model, X, y, cv=5, scoring='r2')\n",
    "print(\"Оценки кросс валидации Ridge:\\n\\t\", \"\\n\\t\".join(\"%.4f\" % x for x in cv_scoresR))\n",
    "print(\"Средняя кросс валидации Ridge R2 = %.4f\" % np.mean(cv_scoresR))"
   ],
   "metadata": {
    "collapsed": false
   },
   "id": "d69d66cab2a70586",
   "execution_count": null
  },
  {
   "cell_type": "markdown",
   "source": [
    "**Кросс валидация для Lasso** "
   ],
   "metadata": {
    "collapsed": false
   },
   "id": "9c812564bb9dab82"
  },
  {
   "cell_type": "code",
   "outputs": [],
   "source": [
    "cv_scoresL = cross_val_score(modelL, X, y, cv=5, scoring='r2')\n",
    "print(\"Оценки кросс валидации Lasso:\\n\\t\", \"\\n\\t\".join(\"%.4f\" % x for x in cv_scoresL))\n",
    "print(\"Средння кросс валидации Lasso R2 = %.4f\" % np.mean(cv_scoresL))"
   ],
   "metadata": {
    "collapsed": false
   },
   "id": "f1c92665f3d94182",
   "execution_count": null
  },
  {
   "cell_type": "code",
   "outputs": [],
   "source": [
    "cv_scores_forest = cross_val_score(ranmodel, X, y, cv=5, scoring='r2')\n",
    "print(\"Оценки кросс валидации Ranmodel:\\n\\t\", \"\\n\\t\".join(\"%.4f\" % x for x in cv_scores_forest))\n",
    "print(\"Средння кросс валидации Lasso R2 = %.4f\" % np.mean(cv_scores_forest))"
   ],
   "metadata": {
    "collapsed": false
   },
   "id": "68bd20949e0bb9d4",
   "execution_count": null
  },
  {
   "cell_type": "code",
   "outputs": [],
   "source": [
    "cv_scores_xgb = cross_val_score(xgb_model, X, y, cv=5, scoring='r2')\n",
    "print(\"Оценки кросс валидации Ranmodel:\\n\\t\", \"\\n\\t\".join(\"%.4f\" % x for x in cv_scores_xgb))\n",
    "print(\"Средння кросс валидации Lasso R2 = %.4f\" % np.mean(cv_scores_xgb))"
   ],
   "metadata": {
    "collapsed": false
   },
   "id": "55d23f1ad17455e8",
   "execution_count": null
  },
  {
   "cell_type": "markdown",
   "source": [
    "Предсказание по тестовому файлу у которой не известны Y. "
   ],
   "metadata": {
    "collapsed": false
   },
   "id": "1a3be0949c891024"
  },
  {
   "cell_type": "code",
   "outputs": [],
   "source": [
    "target_y = ranmodel.predict(test_df)\n",
    "target_y"
   ],
   "metadata": {
    "collapsed": false
   },
   "id": "60aebea1854327ff",
   "execution_count": null
  },
  {
   "cell_type": "code",
   "outputs": [],
   "source": [
    "target_y = xgb_model.predict(test_df)\n",
    "target_y"
   ],
   "metadata": {
    "collapsed": false
   },
   "id": "2a100e03e564c181",
   "execution_count": null
  },
  {
   "cell_type": "code",
   "outputs": [],
   "source": [
    "output = pd.DataFrame({'Id': id_test,\n",
    "                       'SalePrice': target_y})\n",
    "output"
   ],
   "metadata": {
    "collapsed": false
   },
   "id": "204b68e2a0904206",
   "execution_count": null
  },
  {
   "cell_type": "code",
   "outputs": [],
   "source": [
    "output.to_csv('Predictionpriceregmodels.csv', index=False)"
   ],
   "metadata": {
    "collapsed": false
   },
   "id": "8899178fbb58a7f",
   "execution_count": null
  }
 ],
 "metadata": {
  "kernelspec": {
   "display_name": "Python 3",
   "language": "python",
   "name": "python3"
  },
  "language_info": {
   "codemirror_mode": {
    "name": "ipython",
    "version": 2
   },
   "file_extension": ".py",
   "mimetype": "text/x-python",
   "name": "python",
   "nbconvert_exporter": "python",
   "pygments_lexer": "ipython2",
   "version": "2.7.6"
  }
 },
 "nbformat": 4,
 "nbformat_minor": 5
}
